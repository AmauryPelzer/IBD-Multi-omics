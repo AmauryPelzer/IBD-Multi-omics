{
 "cells": [
  {
   "attachments": {},
   "cell_type": "markdown",
   "metadata": {},
   "source": [
    "## Versions\n",
    "\n",
    "Python:\n",
    "\n",
    "pandas:\n",
    "\n",
    "Pip:\n",
    "\n",
    "Biopython:\n",
    "\n",
    "keggtools:"
   ]
  },
  {
   "attachments": {},
   "cell_type": "markdown",
   "metadata": {},
   "source": [
    "# Retrieve EC codes from Mgx data\n",
    "\n",
    "Install Pandas package from pip:\n",
    "\n",
    "> python -m pip install pandas"
   ]
  },
  {
   "cell_type": "code",
   "execution_count": 2,
   "metadata": {},
   "outputs": [],
   "source": [
    "import pandas as pd\n",
    "\n",
    "Mgx = pd.read_table('../analysis/data/mgxData')\n",
    "\n",
    "# split the column by \":\" and put EC codes in Mgx_EC\n",
    "Mgx_EC = Mgx[\"Gene.Family\"].str.split(\":\", expand=True)[0]\n"
   ]
  },
  {
   "attachments": {},
   "cell_type": "markdown",
   "metadata": {},
   "source": [
    "# KEGG pathways from EC codes\n",
    "\n",
    "Install Biopython package from pip:\n",
    "\n",
    "> python -m pip install Biopython"
   ]
  },
  {
   "cell_type": "code",
   "execution_count": 77,
   "metadata": {},
   "outputs": [],
   "source": [
    "from Bio.KEGG import REST\n",
    "import json\n",
    "\n",
    "pathways_dict = {}\n",
    "for ec_number in Mgx_EC:\n",
    "    if not ec_number.islower(): # against Bad request error from preliminary EC codes (e.g. \"1.3.1.n3\" -> Mgx_EC[430] )\n",
    "        pathways = REST.kegg_link(\"pathway\", ec_number).read().strip().split(\"\\n\")\n",
    "        if not pathways == [\"\"]: # against no responses to request\n",
    "            for pathway in pathways:\n",
    "                pathway_id, pathway_name = pathway.split(\"\\tpath:\")\n",
    "                pathway_id = pathway_id.split(\":\")[1]\n",
    "                if pathway_id not in pathways_dict:\n",
    "                    pathways_dict[pathway_id] = []\n",
    "                pathways_dict[pathway_id].append(pathway_name)\n",
    "\n",
    "with open(\"pathways_dict.txt\", \"w\") as file:\n",
    "    json.dump(pathways_dict, file)  # encode dict into JSON"
   ]
  },
  {
   "attachments": {},
   "cell_type": "markdown",
   "metadata": {},
   "source": [
    "## Loading the dictionnary of pathways"
   ]
  },
  {
   "cell_type": "code",
   "execution_count": null,
   "metadata": {},
   "outputs": [],
   "source": [
    "import json\n",
    "\n",
    "# Open the file for reading\n",
    "with open(\"pathways_dict.txt\", \"r\") as file:\n",
    "    # Load the dictionary from the file\n",
    "    pathways_dict = json.load(file)"
   ]
  },
  {
   "attachments": {},
   "cell_type": "markdown",
   "metadata": {},
   "source": [
    "# Enrichment and Testing\n",
    "\n",
    "Install keggtools package from pip:\n",
    "\n",
    "> python -m pip install keggtools"
   ]
  },
  {
   "cell_type": "code",
   "execution_count": 30,
   "metadata": {},
   "outputs": [
    {
     "ename": "ValueError",
     "evalue": "need to 'run_analysis' first",
     "output_type": "error",
     "traceback": [
      "\u001b[1;31m---------------------------------------------------------------------------\u001b[0m",
      "\u001b[1;31mValueError\u001b[0m                                Traceback (most recent call last)",
      "\u001b[1;32m~\\AppData\\Local\\Temp\\ipykernel_25268\\3666560864.py\u001b[0m in \u001b[0;36m<module>\u001b[1;34m\u001b[0m\n\u001b[0;32m     12\u001b[0m \u001b[1;33m\u001b[0m\u001b[0m\n\u001b[0;32m     13\u001b[0m \u001b[1;31m# to_dataframe method requires pandas installation\u001b[0m\u001b[1;33m\u001b[0m\u001b[1;33m\u001b[0m\u001b[1;33m\u001b[0m\u001b[0m\n\u001b[1;32m---> 14\u001b[1;33m \u001b[0mresult\u001b[0m \u001b[1;33m=\u001b[0m \u001b[0manalysis\u001b[0m\u001b[1;33m.\u001b[0m\u001b[0mto_dataframe\u001b[0m\u001b[1;33m(\u001b[0m\u001b[1;33m)\u001b[0m\u001b[1;33m\u001b[0m\u001b[1;33m\u001b[0m\u001b[0m\n\u001b[0m\u001b[0;32m     15\u001b[0m \u001b[0mprint\u001b[0m\u001b[1;33m(\u001b[0m\u001b[0mresult\u001b[0m\u001b[1;33m.\u001b[0m\u001b[0mhead\u001b[0m\u001b[1;33m(\u001b[0m\u001b[1;33m)\u001b[0m\u001b[1;33m)\u001b[0m\u001b[1;33m\u001b[0m\u001b[1;33m\u001b[0m\u001b[0m\n",
      "\u001b[1;32mc:\\Tools\\Python_3.7.2\\lib\\site-packages\\keggtools\\analysis.py\u001b[0m in \u001b[0;36mto_dataframe\u001b[1;34m(self)\u001b[0m\n\u001b[0;32m    327\u001b[0m \u001b[1;33m\u001b[0m\u001b[0m\n\u001b[0;32m    328\u001b[0m         \u001b[1;31m# Check if summary exists\u001b[0m\u001b[1;33m\u001b[0m\u001b[1;33m\u001b[0m\u001b[1;33m\u001b[0m\u001b[0m\n\u001b[1;32m--> 329\u001b[1;33m         \u001b[0mself\u001b[0m\u001b[1;33m.\u001b[0m\u001b[0m_check_analysis_result_exist\u001b[0m\u001b[1;33m(\u001b[0m\u001b[1;33m)\u001b[0m\u001b[1;33m\u001b[0m\u001b[1;33m\u001b[0m\u001b[0m\n\u001b[0m\u001b[0;32m    330\u001b[0m         \u001b[0msummary_list\u001b[0m \u001b[1;33m=\u001b[0m \u001b[1;33m[\u001b[0m\u001b[1;33m]\u001b[0m\u001b[1;33m\u001b[0m\u001b[1;33m\u001b[0m\u001b[0m\n\u001b[0;32m    331\u001b[0m         \u001b[1;32mfor\u001b[0m \u001b[0mresult\u001b[0m \u001b[1;32min\u001b[0m \u001b[0mself\u001b[0m\u001b[1;33m.\u001b[0m\u001b[0mresult\u001b[0m\u001b[1;33m:\u001b[0m\u001b[1;33m\u001b[0m\u001b[1;33m\u001b[0m\u001b[0m\n",
      "\u001b[1;32mc:\\Tools\\Python_3.7.2\\lib\\site-packages\\keggtools\\analysis.py\u001b[0m in \u001b[0;36m_check_analysis_result_exist\u001b[1;34m(self)\u001b[0m\n\u001b[0;32m    151\u001b[0m \u001b[1;33m\u001b[0m\u001b[0m\n\u001b[0;32m    152\u001b[0m         \u001b[1;32mif\u001b[0m \u001b[1;32mnot\u001b[0m \u001b[0mself\u001b[0m\u001b[1;33m.\u001b[0m\u001b[0mresult\u001b[0m \u001b[1;32mor\u001b[0m \u001b[0mlen\u001b[0m\u001b[1;33m(\u001b[0m\u001b[0mself\u001b[0m\u001b[1;33m.\u001b[0m\u001b[0mresult\u001b[0m\u001b[1;33m)\u001b[0m \u001b[1;33m==\u001b[0m \u001b[1;36m0\u001b[0m\u001b[1;33m:\u001b[0m\u001b[1;33m\u001b[0m\u001b[1;33m\u001b[0m\u001b[0m\n\u001b[1;32m--> 153\u001b[1;33m             \u001b[1;32mraise\u001b[0m \u001b[0mValueError\u001b[0m\u001b[1;33m(\u001b[0m\u001b[1;34m\"need to 'run_analysis' first\"\u001b[0m\u001b[1;33m)\u001b[0m\u001b[1;33m\u001b[0m\u001b[1;33m\u001b[0m\u001b[0m\n\u001b[0m\u001b[0;32m    154\u001b[0m \u001b[1;33m\u001b[0m\u001b[0m\n\u001b[0;32m    155\u001b[0m     def get_subset(\n",
      "\u001b[1;31mValueError\u001b[0m: need to 'run_analysis' first"
     ]
    }
   ],
   "source": [
    "from keggtools import Enrichment\n",
    "\n",
    "# Add pathway object to list\n",
    "pathway_list = records\n",
    "\n",
    "# Init analysis with organism code\n",
    "analysis = Enrichment(pathways=pathway_list)\n",
    "\n",
    "# Study genes as list of entrez gene id's\n",
    "study_genes = Mgx_EC\n",
    "analysis.run_analysis(gene_list=study_genes)\n",
    "\n",
    "# to_dataframe method requires pandas installation\n",
    "result = analysis.to_dataframe()\n",
    "print(result.head())"
   ]
  }
 ],
 "metadata": {
  "kernelspec": {
   "display_name": "Python 3",
   "language": "python",
   "name": "python3"
  },
  "language_info": {
   "codemirror_mode": {
    "name": "ipython",
    "version": 3
   },
   "file_extension": ".py",
   "mimetype": "text/x-python",
   "name": "python",
   "nbconvert_exporter": "python",
   "pygments_lexer": "ipython3",
   "version": "3.7.2"
  },
  "orig_nbformat": 4
 },
 "nbformat": 4,
 "nbformat_minor": 2
}
