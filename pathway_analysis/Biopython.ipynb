{
 "cells": [
  {
   "attachments": {},
   "cell_type": "markdown",
   "metadata": {},
   "source": [
    "## Versions\n",
    "\n",
    "Python: 3.7.2\n",
    "\n",
    "pandas: 1.3.5\n",
    "\n",
    "Pip: 23.0.1\n",
    "\n",
    "Biopython: 1.81\n",
    "\n",
    "keggtools: 1.0.1"
   ]
  },
  {
   "attachments": {},
   "cell_type": "markdown",
   "metadata": {},
   "source": [
    "# Retrieve EC codes from Mgx data\n",
    "\n",
    "Install Pandas package from pip:\n",
    "\n",
    "> python -m pip install pandas"
   ]
  },
  {
   "cell_type": "code",
   "execution_count": 2,
   "metadata": {},
   "outputs": [],
   "source": [
    "import pandas as pd\n",
    "\n",
    "Mgx = pd.read_table('../analysis/data/mgxData')\n",
    "\n",
    "# split the column by \":\" and put EC codes in Mgx_EC\n",
    "Mgx_EC = Mgx[\"Gene.Family\"].str.split(\":\", expand=True)[0]"
   ]
  },
  {
   "attachments": {},
   "cell_type": "markdown",
   "metadata": {},
   "source": [
    "# KEGG pathways from EC codes\n",
    "\n",
    "Install Biopython package from pip:\n",
    "\n",
    "> python -m pip install Biopython"
   ]
  },
  {
   "cell_type": "code",
   "execution_count": null,
   "metadata": {},
   "outputs": [],
   "source": [
    "from Bio.KEGG import REST\n",
    "import json\n",
    "\n",
    "pathways_dict = {}\n",
    "for ec_number in Mgx_EC:\n",
    "    if not ec_number.islower(): # against Bad request error from preliminary EC codes (e.g. \"1.3.1.n3\" -> Mgx_EC[430] )\n",
    "        pathways = REST.kegg_link(\"pathway\", ec_number).read().strip().split(\"\\n\")\n",
    "        if not pathways == [\"\"]: # against no responses to request\n",
    "            for pathway in pathways:\n",
    "                pathway_id, pathway_name = pathway.split(\"\\tpath:\")\n",
    "                pathway_id = pathway_id.split(\":\")[1]\n",
    "                if pathway_id not in pathways_dict:\n",
    "                    pathways_dict[pathway_id] = []\n",
    "                pathways_dict[pathway_id].append(pathway_name)\n",
    "\n",
    "with open(\"data/pathways_dict.json\", \"w\") as file:\n",
    "    json.dump(pathways_dict, file)  # encode dict into JSON"
   ]
  },
  {
   "attachments": {},
   "cell_type": "markdown",
   "metadata": {},
   "source": [
    "## Loading the dictionnary of pathways"
   ]
  },
  {
   "cell_type": "code",
   "execution_count": 3,
   "metadata": {},
   "outputs": [],
   "source": [
    "import json\n",
    "\n",
    "# Open the file for reading\n",
    "with open(\"data/pathways_dict.json\", \"r\") as file:\n",
    "    # Load the dictionary from the file\n",
    "    pathways_dict = json.load(file)"
   ]
  },
  {
   "attachments": {},
   "cell_type": "markdown",
   "metadata": {},
   "source": [
    "# Enrichment and Testing\n",
    "\n"
   ]
  },
  {
   "attachments": {},
   "cell_type": "markdown",
   "metadata": {},
   "source": [
    "Download all ec pathways from KEGG"
   ]
  },
  {
   "cell_type": "code",
   "execution_count": 12,
   "metadata": {},
   "outputs": [],
   "source": [
    "import requests\n",
    "\n",
    "# Define the URL for the KEGG REST API\n",
    "url = 'http://rest.kegg.jp/list/pathway/ec'\n",
    "\n",
    "# Send a GET request to the URL to retrieve the pathway IDs\n",
    "response = requests.get(url)\n",
    "\n",
    "# Parse the response to get the pathway IDs\n",
    "all_pathway_ids = [line.split('\\t')[0] for line in response.text.strip().split('\\n')]"
   ]
  },
  {
   "attachments": {},
   "cell_type": "markdown",
   "metadata": {},
   "source": [
    "Attribute the related enzymes for all the pathways"
   ]
  },
  {
   "cell_type": "code",
   "execution_count": null,
   "metadata": {},
   "outputs": [],
   "source": [
    "import re\n",
    "import json\n",
    "\n",
    "ec_pathways = {}\n",
    "\n",
    "for pathway_id in all_pathway_ids:\n",
    "    pathway_url = f'http://rest.kegg.jp/get/{pathway_id}'\n",
    "    pathway_response = requests.get(pathway_url)\n",
    "    pathway_text = pathway_response.text.strip()\n",
    "    \n",
    "    # find the lines containing enzyme information\n",
    "    pattern = r\"ENZYME\\s+(.*?)\\s+COMPOUND\"\n",
    "    enzyme_lines = re.search(pattern, pathway_text, re.DOTALL)\n",
    "    if enzyme_lines:\n",
    "        enzymes = [s.lstrip() for s in enzyme_lines.group(1).strip().split('\\n')]\n",
    "        ec_pathways[pathway_id] = enzymes\n",
    "    \n",
    "    # Write the pathway data to a file\n",
    "    #with open(f'{pathway_id}.txt', 'w') as f:\n",
    "    #    f.write(pathway_text)\n",
    "\n",
    "with open(\"data/all_pathways_enzymes_dict.json\", \"w\") as file:\n",
    "    json.dump(ec_pathways, file)  # encode dict into JSON"
   ]
  },
  {
   "cell_type": "code",
   "execution_count": 42,
   "metadata": {},
   "outputs": [],
   "source": [
    "import json\n",
    "\n",
    "# Open the file for reading\n",
    "with open(\"data/all_pathways_enzymes_dict.json\", \"r\") as file:\n",
    "    # Load the dictionary from the file\n",
    "    all_pathways_enzymes_dict = json.load(file)"
   ]
  }
 ],
 "metadata": {
  "kernelspec": {
   "display_name": "Python 3",
   "language": "python",
   "name": "python3"
  },
  "language_info": {
   "codemirror_mode": {
    "name": "ipython",
    "version": 3
   },
   "file_extension": ".py",
   "mimetype": "text/x-python",
   "name": "python",
   "nbconvert_exporter": "python",
   "pygments_lexer": "ipython3",
   "version": "3.7.2"
  },
  "orig_nbformat": 4
 },
 "nbformat": 4,
 "nbformat_minor": 2
}
